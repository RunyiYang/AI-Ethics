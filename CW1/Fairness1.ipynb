{
 "cells": [
  {
   "cell_type": "code",
   "execution_count": 1,
   "metadata": {
    "colab": {
     "base_uri": "https://localhost:8080/"
    },
    "id": "jhxKuLALFE6B",
    "outputId": "11f20632-7a96-4726-fb2e-19bec5950ed1"
   },
   "outputs": [
    {
     "ename": "ModuleNotFoundError",
     "evalue": "No module named 'google'",
     "output_type": "error",
     "traceback": [
      "\u001b[0;31m---------------------------------------------------------------------------\u001b[0m",
      "\u001b[0;31mModuleNotFoundError\u001b[0m                       Traceback (most recent call last)",
      "Cell \u001b[0;32mIn[1], line 1\u001b[0m\n\u001b[0;32m----> 1\u001b[0m \u001b[38;5;28;01mfrom\u001b[39;00m \u001b[38;5;21;01mgoogle\u001b[39;00m\u001b[38;5;21;01m.\u001b[39;00m\u001b[38;5;21;01mcolab\u001b[39;00m \u001b[38;5;28;01mimport\u001b[39;00m drive\n\u001b[1;32m      2\u001b[0m drive\u001b[38;5;241m.\u001b[39mmount(\u001b[38;5;124m'\u001b[39m\u001b[38;5;124m/content/gdrive\u001b[39m\u001b[38;5;124m'\u001b[39m)\n",
      "\u001b[0;31mModuleNotFoundError\u001b[0m: No module named 'google'"
     ]
    }
   ],
   "source": [
    "from google.colab import drive\n",
    "drive.mount('/content/gdrive')"
   ]
  },
  {
   "cell_type": "markdown",
   "metadata": {
    "id": "eJb1zErlGFe9"
   },
   "source": [
    "Get Data as provided"
   ]
  },
  {
   "cell_type": "code",
   "execution_count": null,
   "metadata": {
    "colab": {
     "base_uri": "https://localhost:8080/"
    },
    "id": "zFC1N4EZGZ6W",
    "outputId": "448baa2b-1ec8-4e16-fded-ac38c2348596"
   },
   "outputs": [
    {
     "name": "stdout",
     "output_type": "stream",
     "text": [
      "Collecting folktables\n",
      "  Downloading folktables-0.0.12-py3-none-any.whl (17 kB)\n",
      "Requirement already satisfied: numpy in /usr/local/lib/python3.10/dist-packages (from folktables) (1.23.5)\n",
      "Requirement already satisfied: pandas in /usr/local/lib/python3.10/dist-packages (from folktables) (1.5.3)\n",
      "Requirement already satisfied: requests in /usr/local/lib/python3.10/dist-packages (from folktables) (2.31.0)\n",
      "Requirement already satisfied: scikit-learn in /usr/local/lib/python3.10/dist-packages (from folktables) (1.2.2)\n",
      "Requirement already satisfied: python-dateutil>=2.8.1 in /usr/local/lib/python3.10/dist-packages (from pandas->folktables) (2.8.2)\n",
      "Requirement already satisfied: pytz>=2020.1 in /usr/local/lib/python3.10/dist-packages (from pandas->folktables) (2023.3.post1)\n",
      "Requirement already satisfied: charset-normalizer<4,>=2 in /usr/local/lib/python3.10/dist-packages (from requests->folktables) (3.3.2)\n",
      "Requirement already satisfied: idna<4,>=2.5 in /usr/local/lib/python3.10/dist-packages (from requests->folktables) (3.6)\n",
      "Requirement already satisfied: urllib3<3,>=1.21.1 in /usr/local/lib/python3.10/dist-packages (from requests->folktables) (2.0.7)\n",
      "Requirement already satisfied: certifi>=2017.4.17 in /usr/local/lib/python3.10/dist-packages (from requests->folktables) (2023.11.17)\n",
      "Requirement already satisfied: scipy>=1.3.2 in /usr/local/lib/python3.10/dist-packages (from scikit-learn->folktables) (1.11.4)\n",
      "Requirement already satisfied: joblib>=1.1.1 in /usr/local/lib/python3.10/dist-packages (from scikit-learn->folktables) (1.3.2)\n",
      "Requirement already satisfied: threadpoolctl>=2.0.0 in /usr/local/lib/python3.10/dist-packages (from scikit-learn->folktables) (3.2.0)\n",
      "Requirement already satisfied: six>=1.5 in /usr/local/lib/python3.10/dist-packages (from python-dateutil>=2.8.1->pandas->folktables) (1.16.0)\n",
      "Installing collected packages: folktables\n",
      "Successfully installed folktables-0.0.12\n"
     ]
    }
   ],
   "source": [
    "!pip install folktables"
   ]
  },
  {
   "cell_type": "code",
   "execution_count": 2,
   "metadata": {
    "id": "4gK8Ny9xFHlF"
   },
   "outputs": [],
   "source": [
    "import folktables\n",
    "from folktables import ACSDataSource\n",
    "import numpy as np\n",
    "#(Age) must be greater than 16 and less than 90, and (Person weight) must be greater than or equal to 1\n",
    "def employment_filter(data):\n",
    "\n",
    "#Filters for the employment prediction task\n",
    "\n",
    "    df = data\n",
    "    df = df[df['AGEP'] > 16]\n",
    "    df = df[df['AGEP'] < 90]\n",
    "    df = df[df['PWGTP'] >= 1]\n",
    "    return df\n",
    "\n",
    "ACSEmployment = folktables.BasicProblem(\n",
    "    features=[\n",
    "    'AGEP', #age; for range of values of features please check Appendix B.4 of Retiring Adult: New Datasets for Fair Machine Learning NeurIPS 2021 paper\n",
    "    'SCHL', #educational attainment\n",
    "    'MAR', #marital status\n",
    "    'RELP', #relationship\n",
    "    'DIS', #disability recode\n",
    "    'ESP', #employment status of parents\n",
    "    'CIT', #citizenship status\n",
    "    'MIG', #mobility status (lived here 1 year ago)\n",
    "    'MIL', #military service\n",
    "    'ANC', #ancestry recode\n",
    "    'NATIVITY', #nativity\n",
    "    'DEAR', #hearing difficulty\n",
    "    'DEYE', #vision difficulty\n",
    "    'DREM', #cognitive difficulty\n",
    "    'SEX', #sex\n",
    "    'RAC1P', #recoded detailed race code\n",
    "    'GCL', #grandparents living with grandchildren\n",
    "    ],\n",
    "    target='ESR', #employment status recode\n",
    "    target_transform=lambda x: x == 1,\n",
    "    group='DIS',\n",
    "    preprocess=employment_filter,\n",
    "    postprocess=lambda x: np.nan_to_num(x, -1),\n",
    ")\n",
    "data_source = ACSDataSource(survey_year='2018', horizon='1-Year', survey='person')\n",
    "acs_data = data_source.get_data(states=[\"FL\"], download=True) #data for Florida state\n",
    "features, label, group = ACSEmployment.df_to_numpy(acs_data)"
   ]
  },
  {
   "cell_type": "code",
   "execution_count": 3,
   "metadata": {
    "colab": {
     "base_uri": "https://localhost:8080/"
    },
    "id": "Jtz7V_zeHZ-3",
    "outputId": "674f79f8-1ce8-4738-a061-1d909df223a8"
   },
   "outputs": [
    {
     "data": {
      "text/plain": [
       "array([[64., 16.,  1., ...,  1.,  8.,  2.],\n",
       "       [20., 16.,  5., ...,  1.,  9.,  0.],\n",
       "       [18., 16.,  5., ...,  1.,  2.,  0.],\n",
       "       ...,\n",
       "       [57., 21.,  1., ...,  1.,  1.,  2.],\n",
       "       [38., 16.,  1., ...,  2.,  9.,  2.],\n",
       "       [50., 16.,  1., ...,  1.,  2.,  2.]])"
      ]
     },
     "execution_count": 3,
     "metadata": {},
     "output_type": "execute_result"
    }
   ],
   "source": [
    "features"
   ]
  },
  {
   "cell_type": "code",
   "execution_count": 4,
   "metadata": {
    "colab": {
     "base_uri": "https://localhost:8080/"
    },
    "id": "bUQukQ5EjLtT",
    "outputId": "3a77e998-6282-4138-f720-03fc39410128"
   },
   "outputs": [
    {
     "name": "stdout",
     "output_type": "stream",
     "text": [
      "zsh:1: no matches found: aif360[LawSchoolGPA]\n"
     ]
    }
   ],
   "source": [
    "!pip install aif360[LawSchoolGPA]"
   ]
  },
  {
   "cell_type": "code",
   "execution_count": 5,
   "metadata": {
    "id": "mrJd1HpL4bg1"
   },
   "outputs": [
    {
     "name": "stderr",
     "output_type": "stream",
     "text": [
      "WARNING:root:\n",
      "`load_boston` has been removed from scikit-learn since version 1.2.\n",
      "\n",
      "The Boston housing prices dataset has an ethical problem: as\n",
      "investigated in [1], the authors of this dataset engineered a\n",
      "non-invertible variable \"B\" assuming that racial self-segregation had a\n",
      "positive impact on house prices [2]. Furthermore the goal of the\n",
      "research that led to the creation of this dataset was to study the\n",
      "impact of air quality but it did not give adequate demonstration of the\n",
      "validity of this assumption.\n",
      "\n",
      "The scikit-learn maintainers therefore strongly discourage the use of\n",
      "this dataset unless the purpose of the code is to study and educate\n",
      "about ethical issues in data science and machine learning.\n",
      "\n",
      "In this special case, you can fetch the dataset from the original\n",
      "source::\n",
      "\n",
      "    import pandas as pd\n",
      "    import numpy as np\n",
      "\n",
      "    data_url = \"http://lib.stat.cmu.edu/datasets/boston\"\n",
      "    raw_df = pd.read_csv(data_url, sep=\"\\s+\", skiprows=22, header=None)\n",
      "    data = np.hstack([raw_df.values[::2, :], raw_df.values[1::2, :2]])\n",
      "    target = raw_df.values[1::2, 2]\n",
      "\n",
      "Alternative datasets include the California housing dataset and the\n",
      "Ames housing dataset. You can load the datasets as follows::\n",
      "\n",
      "    from sklearn.datasets import fetch_california_housing\n",
      "    housing = fetch_california_housing()\n",
      "\n",
      "for the California housing dataset and::\n",
      "\n",
      "    from sklearn.datasets import fetch_openml\n",
      "    housing = fetch_openml(name=\"house_prices\", as_frame=True)\n",
      "\n",
      "for the Ames housing dataset.\n",
      "\n",
      "[1] M Carlisle.\n",
      "\"Racist data destruction?\"\n",
      "<https://medium.com/@docintangible/racist-data-destruction-113e3eff54a8>\n",
      "\n",
      "[2] Harrison Jr, David, and Daniel L. Rubinfeld.\n",
      "\"Hedonic housing prices and the demand for clean air.\"\n",
      "Journal of environmental economics and management 5.1 (1978): 81-102.\n",
      "<https://www.researchgate.net/publication/4974606_Hedonic_housing_prices_and_the_demand_for_clean_air>\n",
      ": LawSchoolGPADataset will be unavailable. To install, run:\n",
      "pip install 'aif360[LawSchoolGPA]'\n",
      "/opt/anaconda3/envs/AIETHic/lib/python3.10/site-packages/aif360/datasets/standard_dataset.py:143: FutureWarning: Setting an item of incompatible dtype is deprecated and will raise an error in a future version of pandas. Value '1.0' has dtype incompatible with bool, please explicitly cast to a compatible dtype first.\n",
      "  df.loc[pos, label_name] = favorable_label\n"
     ]
    }
   ],
   "source": [
    "from aif360.datasets import StandardDataset\n",
    "import pandas as pd\n",
    "data = pd.DataFrame(features, columns = ACSEmployment.features)\n",
    "data['label'] = label\n",
    "favorable_classes = [True]\n",
    "protected_attribute_names = [ACSEmployment.group]\n",
    "privileged_classes = np.array([[1]])\n",
    "data_for_aif = StandardDataset(data, 'label', favorable_classes = favorable_classes, protected_attribute_names = protected_attribute_names, privileged_classes = privileged_classes)\n",
    "privileged_groups = [{'DIS': 1}]\n",
    "unprivileged_groups = [{'DIS': 2}]"
   ]
  },
  {
   "cell_type": "code",
   "execution_count": 6,
   "metadata": {
    "colab": {
     "base_uri": "https://localhost:8080/"
    },
    "id": "VralYAFw6KgE",
    "outputId": "2ed2a707-378e-4b07-97a5-5ba57ce8339c"
   },
   "outputs": [
    {
     "data": {
      "text/plain": [
       "               instance weights features                                       \\\n",
       "                                                          protected attribute   \n",
       "                                    AGEP  SCHL  MAR  RELP                 DIS   \n",
       "instance names                                                                  \n",
       "0                           1.0     64.0  16.0  1.0  16.0                 2.0   \n",
       "1                           1.0     20.0  16.0  5.0  17.0                 2.0   \n",
       "2                           1.0     18.0  16.0  5.0  17.0                 2.0   \n",
       "3                           1.0     72.0   1.0  5.0  17.0                 1.0   \n",
       "4                           1.0     37.0  17.0  5.0  16.0                 2.0   \n",
       "...                         ...      ...   ...  ...   ...                 ...   \n",
       "167301                      1.0     72.0  19.0  2.0   0.0                 2.0   \n",
       "167302                      1.0     58.0  19.0  1.0   0.0                 1.0   \n",
       "167303                      1.0     57.0  21.0  1.0   1.0                 2.0   \n",
       "167304                      1.0     38.0  16.0  1.0   0.0                 1.0   \n",
       "167305                      1.0     50.0  16.0  1.0   1.0                 1.0   \n",
       "\n",
       "                                                                            \\\n",
       "                                                                             \n",
       "                ESP  CIT  MIG  MIL  ANC NATIVITY DEAR DEYE DREM  SEX RAC1P   \n",
       "instance names                                                               \n",
       "0               0.0  5.0  3.0  4.0  1.0      2.0  2.0  2.0  2.0  1.0   8.0   \n",
       "1               0.0  1.0  3.0  2.0  2.0      1.0  2.0  2.0  2.0  1.0   9.0   \n",
       "2               0.0  1.0  3.0  4.0  1.0      1.0  2.0  2.0  2.0  1.0   2.0   \n",
       "3               0.0  1.0  1.0  4.0  1.0      1.0  2.0  2.0  1.0  1.0   1.0   \n",
       "4               0.0  1.0  1.0  4.0  4.0      1.0  2.0  2.0  2.0  1.0   2.0   \n",
       "...             ...  ...  ...  ...  ...      ...  ...  ...  ...  ...   ...   \n",
       "167301          0.0  1.0  1.0  2.0  2.0      1.0  2.0  2.0  2.0  2.0   1.0   \n",
       "167302          0.0  1.0  3.0  2.0  2.0      1.0  1.0  2.0  2.0  1.0   1.0   \n",
       "167303          0.0  1.0  3.0  4.0  1.0      1.0  2.0  2.0  2.0  1.0   1.0   \n",
       "167304          0.0  1.0  1.0  4.0  1.0      1.0  2.0  1.0  1.0  2.0   9.0   \n",
       "167305          0.0  1.0  1.0  4.0  1.0      1.0  1.0  1.0  1.0  1.0   2.0   \n",
       "\n",
       "                    labels  \n",
       "                            \n",
       "                GCL         \n",
       "instance names              \n",
       "0               2.0    0.0  \n",
       "1               0.0    0.0  \n",
       "2               0.0    0.0  \n",
       "3               2.0    0.0  \n",
       "4               2.0    0.0  \n",
       "...             ...    ...  \n",
       "167301          2.0    1.0  \n",
       "167302          2.0    0.0  \n",
       "167303          2.0    0.0  \n",
       "167304          2.0    0.0  \n",
       "167305          2.0    0.0  \n",
       "\n",
       "[167306 rows x 19 columns]"
      ]
     },
     "execution_count": 6,
     "metadata": {},
     "output_type": "execute_result"
    }
   ],
   "source": [
    "data_for_aif"
   ]
  },
  {
   "cell_type": "markdown",
   "metadata": {
    "id": "5_GbbprTLusL"
   },
   "source": [
    "**Task1**\n",
    "(a)"
   ]
  },
  {
   "cell_type": "code",
   "execution_count": 7,
   "metadata": {
    "id": "YSp8Yb6fLuRS"
   },
   "outputs": [],
   "source": [
    "from sklearn.model_selection import train_test_split\n",
    "from aif360.datasets import StandardDataset\n",
    "\n",
    "# Initial train-test split (0.7/0.3)\n",
    "dataset_train, dataset_test = data_for_aif.split([0.7], shuffle=True, seed=0)\n",
    "#dataset_train = data_for_aif # For More research 2, use the whole as training but use the TX as test\n",
    "train_train_splits = []\n",
    "train_val_splits = []\n",
    "\n",
    "for i in range(5):\n",
    "    # Further split the train set into train-train/train-val (0.8/0.2)\n",
    "    dataset_train_train, dataset_train_val = dataset_train.split([0.8], shuffle=True, seed = i)\n",
    "\n",
    "    train_train_splits.append(dataset_train_train)\n",
    "    train_val_splits.append(dataset_train_val)"
   ]
  },
  {
   "cell_type": "code",
   "execution_count": 8,
   "metadata": {
    "colab": {
     "base_uri": "https://localhost:8080/"
    },
    "id": "Xm_6TcbHIFnk",
    "outputId": "9fa2e4d7-7bca-474c-efde-e4cbbaa024d9"
   },
   "outputs": [
    {
     "data": {
      "text/plain": [
       "               instance weights features                                       \\\n",
       "                                                          protected attribute   \n",
       "                                    AGEP  SCHL  MAR  RELP                 DIS   \n",
       "instance names                                                                  \n",
       "2276                        1.0     19.0  19.0  5.0  17.0                 2.0   \n",
       "127364                      1.0     44.0  14.0  1.0   0.0                 2.0   \n",
       "57840                       1.0     63.0  22.0  1.0   6.0                 2.0   \n",
       "142880                      1.0     69.0  18.0  1.0   1.0                 1.0   \n",
       "57075                       1.0     69.0  19.0  1.0   0.0                 2.0   \n",
       "...                         ...      ...   ...  ...   ...                 ...   \n",
       "132062                      1.0     78.0  16.0  1.0   0.0                 1.0   \n",
       "101485                      1.0     69.0  16.0  1.0   0.0                 2.0   \n",
       "123368                      1.0     36.0  23.0  5.0   0.0                 2.0   \n",
       "83073                       1.0     42.0  19.0  1.0   1.0                 2.0   \n",
       "32700                       1.0     45.0  19.0  3.0   0.0                 2.0   \n",
       "\n",
       "                                                                            \\\n",
       "                                                                             \n",
       "                ESP  CIT  MIG  MIL  ANC NATIVITY DEAR DEYE DREM  SEX RAC1P   \n",
       "instance names                                                               \n",
       "2276            0.0  1.0  1.0  4.0  1.0      1.0  2.0  2.0  2.0  1.0   6.0   \n",
       "127364          0.0  2.0  1.0  4.0  4.0      1.0  2.0  2.0  2.0  2.0   1.0   \n",
       "57840           0.0  1.0  3.0  4.0  2.0      1.0  2.0  2.0  2.0  2.0   1.0   \n",
       "142880          0.0  1.0  1.0  4.0  2.0      1.0  2.0  1.0  2.0  2.0   1.0   \n",
       "57075           0.0  1.0  1.0  2.0  2.0      1.0  2.0  2.0  2.0  1.0   1.0   \n",
       "...             ...  ...  ...  ...  ...      ...  ...  ...  ...  ...   ...   \n",
       "132062          0.0  1.0  1.0  4.0  1.0      1.0  1.0  2.0  2.0  2.0   1.0   \n",
       "101485          0.0  1.0  1.0  4.0  1.0      1.0  2.0  2.0  2.0  1.0   1.0   \n",
       "123368          0.0  1.0  1.0  4.0  2.0      1.0  2.0  2.0  2.0  1.0   1.0   \n",
       "83073           0.0  1.0  3.0  4.0  1.0      1.0  2.0  2.0  2.0  1.0   1.0   \n",
       "32700           0.0  1.0  1.0  4.0  2.0      1.0  2.0  2.0  2.0  2.0   1.0   \n",
       "\n",
       "                    labels  \n",
       "                            \n",
       "                GCL         \n",
       "instance names              \n",
       "2276            0.0    0.0  \n",
       "127364          2.0    0.0  \n",
       "57840           1.0    0.0  \n",
       "142880          2.0    0.0  \n",
       "57075           2.0    0.0  \n",
       "...             ...    ...  \n",
       "132062          2.0    0.0  \n",
       "101485          2.0    0.0  \n",
       "123368          2.0    1.0  \n",
       "83073           2.0    1.0  \n",
       "32700           2.0    1.0  \n",
       "\n",
       "[93691 rows x 19 columns]"
      ]
     },
     "execution_count": 8,
     "metadata": {},
     "output_type": "execute_result"
    }
   ],
   "source": [
    "train_train_splits[0]"
   ]
  },
  {
   "cell_type": "code",
   "execution_count": 9,
   "metadata": {
    "colab": {
     "base_uri": "https://localhost:8080/"
    },
    "id": "8MBh0NJ7KU4I",
    "outputId": "143bf8e5-405e-4ec3-b804-38aaaf581b6f"
   },
   "outputs": [
    {
     "name": "stdout",
     "output_type": "stream",
     "text": [
      "Requirement already satisfied: aif360[Reductions] in /opt/anaconda3/envs/AIETHic/lib/python3.10/site-packages (0.5.0)\n",
      "Requirement already satisfied: numpy>=1.16 in /opt/anaconda3/envs/AIETHic/lib/python3.10/site-packages (from aif360[Reductions]) (1.26.3)\n",
      "Requirement already satisfied: scipy>=1.2.0 in /opt/anaconda3/envs/AIETHic/lib/python3.10/site-packages (from aif360[Reductions]) (1.12.0)\n",
      "Requirement already satisfied: pandas>=0.24.0 in /opt/anaconda3/envs/AIETHic/lib/python3.10/site-packages (from aif360[Reductions]) (2.2.0)\n",
      "Requirement already satisfied: scikit-learn>=1.0 in /opt/anaconda3/envs/AIETHic/lib/python3.10/site-packages (from aif360[Reductions]) (1.4.0)\n",
      "Requirement already satisfied: matplotlib in /opt/anaconda3/envs/AIETHic/lib/python3.10/site-packages (from aif360[Reductions]) (3.8.2)\n",
      "Requirement already satisfied: fairlearn~=0.7 in /opt/anaconda3/envs/AIETHic/lib/python3.10/site-packages (from aif360[Reductions]) (0.10.0)\n",
      "Requirement already satisfied: python-dateutil>=2.8.2 in /opt/anaconda3/envs/AIETHic/lib/python3.10/site-packages (from pandas>=0.24.0->aif360[Reductions]) (2.8.2)\n",
      "Requirement already satisfied: pytz>=2020.1 in /opt/anaconda3/envs/AIETHic/lib/python3.10/site-packages (from pandas>=0.24.0->aif360[Reductions]) (2023.3.post1)\n",
      "Requirement already satisfied: tzdata>=2022.7 in /opt/anaconda3/envs/AIETHic/lib/python3.10/site-packages (from pandas>=0.24.0->aif360[Reductions]) (2023.4)\n",
      "Requirement already satisfied: joblib>=1.2.0 in /opt/anaconda3/envs/AIETHic/lib/python3.10/site-packages (from scikit-learn>=1.0->aif360[Reductions]) (1.3.2)\n",
      "Requirement already satisfied: threadpoolctl>=2.0.0 in /opt/anaconda3/envs/AIETHic/lib/python3.10/site-packages (from scikit-learn>=1.0->aif360[Reductions]) (3.2.0)\n",
      "Requirement already satisfied: contourpy>=1.0.1 in /opt/anaconda3/envs/AIETHic/lib/python3.10/site-packages (from matplotlib->aif360[Reductions]) (1.2.0)\n",
      "Requirement already satisfied: cycler>=0.10 in /opt/anaconda3/envs/AIETHic/lib/python3.10/site-packages (from matplotlib->aif360[Reductions]) (0.12.1)\n",
      "Requirement already satisfied: fonttools>=4.22.0 in /opt/anaconda3/envs/AIETHic/lib/python3.10/site-packages (from matplotlib->aif360[Reductions]) (4.47.2)\n",
      "Requirement already satisfied: kiwisolver>=1.3.1 in /opt/anaconda3/envs/AIETHic/lib/python3.10/site-packages (from matplotlib->aif360[Reductions]) (1.4.5)\n",
      "Requirement already satisfied: packaging>=20.0 in /opt/anaconda3/envs/AIETHic/lib/python3.10/site-packages (from matplotlib->aif360[Reductions]) (23.2)\n",
      "Requirement already satisfied: pillow>=8 in /opt/anaconda3/envs/AIETHic/lib/python3.10/site-packages (from matplotlib->aif360[Reductions]) (10.2.0)\n",
      "Requirement already satisfied: pyparsing>=2.3.1 in /opt/anaconda3/envs/AIETHic/lib/python3.10/site-packages (from matplotlib->aif360[Reductions]) (3.1.1)\n",
      "Requirement already satisfied: six>=1.5 in /opt/anaconda3/envs/AIETHic/lib/python3.10/site-packages (from python-dateutil>=2.8.2->pandas>=0.24.0->aif360[Reductions]) (1.16.0)\n"
     ]
    }
   ],
   "source": [
    "!pip install 'aif360[Reductions]'"
   ]
  },
  {
   "cell_type": "markdown",
   "metadata": {
    "id": "23s8oWQ0intU"
   },
   "source": [
    "**Task1**(b.c) Use LR as model and use metrics.equal_opportunity_difference as fairness metrics as required"
   ]
  },
  {
   "cell_type": "code",
   "execution_count": 10,
   "metadata": {
    "id": "lbljcvmGisi-"
   },
   "outputs": [
    {
     "name": "stderr",
     "output_type": "stream",
     "text": [
      "WARNING:root:No module named 'tensorflow': AdversarialDebiasing will be unavailable. To install, run:\n",
      "pip install 'aif360[AdversarialDebiasing]'\n",
      "WARNING:root:No module named 'tensorflow': AdversarialDebiasing will be unavailable. To install, run:\n",
      "pip install 'aif360[AdversarialDebiasing]'\n"
     ]
    }
   ],
   "source": [
    "import matplotlib.pyplot as plt\n",
    "import numpy as np\n",
    "from sklearn.linear_model import LogisticRegression\n",
    "from sklearn.model_selection import GridSearchCV, train_test_split\n",
    "from sklearn.metrics import accuracy_score\n",
    "from sklearn.preprocessing import StandardScaler\n",
    "from aif360.sklearn.metrics import equal_opportunity_difference\n",
    "from aif360.metrics import ClassificationMetric\n",
    "\n",
    "# Specify the hyperparameter grid for regularization (C)\n",
    "param_values = [0.001, 0.01, 0.05, 0.1,0.5, 1, 10]\n",
    "\n",
    "accuracy_scores = []\n",
    "equal_opportunity_diffs = []\n",
    "lr_models = []\n",
    "\n",
    "\n",
    "for i in range(5):\n",
    "    for param_value in param_values:\n",
    "\n",
    "        lr_model = LogisticRegression(solver='liblinear', random_state=42)\n",
    "\n",
    "        scale_orig = StandardScaler()\n",
    "        X_train_fold = scale_orig.fit_transform(train_train_splits[i].features)\n",
    "        y_train_fold = train_train_splits[i].labels.ravel()\n",
    "\n",
    "        X_val_fold = scale_orig.fit_transform(train_val_splits[i].features)\n",
    "        y_val_fold = train_val_splits[i]\n",
    "\n",
    "        # Fit the model on the training fold\n",
    "        lr_model.fit(X_train_fold, y_train_fold)\n",
    "        lr_models.append(lr_model)\n",
    "\n",
    "        # Extract results\n",
    "        y_val_prob = lr_model.predict(X_val_fold)\n",
    "\n",
    "        accuracy = accuracy_score(train_val_splits[i].labels.ravel(), y_val_prob)\n",
    "        accuracy_scores.append(accuracy)\n",
    "\n",
    "        y_val_pred = y_val_fold.copy()\n",
    "        y_val_pred.labels = y_val_prob\n",
    "\n",
    "        eod = ClassificationMetric(y_val_fold, y_val_pred, unprivileged_groups=unprivileged_groups, privileged_groups=privileged_groups).equal_opportunity_difference()\n",
    "        equal_opportunity_diffs.append(eod)\n",
    "\n"
   ]
  },
  {
   "cell_type": "code",
   "execution_count": 11,
   "metadata": {
    "id": "haUZSjbwUzOE"
   },
   "outputs": [],
   "source": [
    "max_accuracy_index = np.argmax(accuracy_scores)\n",
    "min_eod_index = np.argmin(np.abs(equal_opportunity_diffs))\n",
    "\n",
    "best_model_accuracy = lr_models[max_accuracy_index]\n",
    "best_model_eod = lr_models[min_eod_index]"
   ]
  },
  {
   "cell_type": "code",
   "execution_count": null,
   "metadata": {},
   "outputs": [],
   "source": []
  },
  {
   "cell_type": "code",
   "execution_count": 13,
   "metadata": {
    "colab": {
     "base_uri": "https://localhost:8080/",
     "height": 536
    },
    "id": "mZptSC4nTpxP",
    "outputId": "7d2acc22-b2d7-45f3-ce12-6016744bf77e"
   },
   "outputs": [
    {
     "data": {
      "image/png": "[encoded data removed]",
      "text/plain": [
       "<Figure size 1200x600 with 2 Axes>"
      ]
     },
     "metadata": {},
     "output_type": "display_data"
    }
   ],
   "source": [
    "\n",
    "step_size = 5\n",
    "accuracy_scores_grouped = np.array([accuracy_scores[i:i+step_size] for i in range(0, len(accuracy_scores), step_size)])\n",
    "equal_opportunity_diffs_grouped = np.array([equal_opportunity_diffs[i:i+step_size] for i in range(0, len(equal_opportunity_diffs), step_size)])\n",
    "\n",
    "param_ticks = np.arange(0, len(param_values) * step_size, step_size)\n",
    "\n",
    "plt.figure(figsize=(12, 6))\n",
    "plt.subplot(1, 2, 1)\n",
    "for i, param_tick in enumerate(param_ticks):\n",
    "    plt.bar(param_tick, np.mean(accuracy_scores_grouped[i]), label=f'C={param_values[i]}', width=0.8, align='center')\n",
    "plt.title('Mean Accuracy Scores')\n",
    "plt.xlabel('Regularization Parameter (C)')\n",
    "plt.ylabel('Mean Accuracy')\n",
    "plt.xticks(param_ticks, param_values)\n",
    "plt.ylim(0.72, 0.755)\n",
    "plt.legend()\n",
    "\n",
    "plt.subplot(1, 2, 2)\n",
    "for i, param_tick in enumerate(param_ticks):\n",
    "    plt.bar(param_tick, np.mean(equal_opportunity_diffs_grouped[i]), label=f'C={param_values[i]}', width=0.8, align='center')\n",
    "plt.title('Mean Equal Opportunity Differences')\n",
    "plt.xlabel('Regularization Parameter (C)')\n",
    "plt.ylabel('Mean Equal Opportunity Difference')\n",
    "plt.xticks(param_ticks, param_values)\n",
    "plt.ylim(0.6, 0.66)\n",
    "plt.legend()\n",
    "\n",
    "plt.tight_layout()\n",
    "# plt.savefig('./task1')\n"
   ]
  },
  {
   "cell_type": "code",
   "execution_count": 14,
   "metadata": {
    "colab": {
     "base_uri": "https://localhost:8080/"
    },
    "id": "1fr08UprXvtf",
    "outputId": "9590d148-75b3-4086-b4c8-66851bf0ef05"
   },
   "outputs": [
    {
     "name": "stdout",
     "output_type": "stream",
     "text": [
      "Accuracy based model:\n",
      "Accuracy: 0.7531877590054192\n",
      "Equal Opportunity Differences: 0.6242599728170969\n",
      "EOD based model:\n",
      "Accuracy: 0.752908830092445\n",
      "Equal Opportunity Differences: 0.620592030050883\n"
     ]
    }
   ],
   "source": [
    "scale_orig = StandardScaler()\n",
    "X_test = scale_orig.fit_transform(dataset_test.features)\n",
    "y_test = dataset_test\n",
    "\n",
    "print(\"Accuracy based model:\")\n",
    "y_test_pred = best_model_accuracy.predict(X_test)\n",
    "\n",
    "accuracy = accuracy_score(y_test.labels.ravel(), y_test_pred)\n",
    "print(\"Accuracy:\", accuracy)\n",
    "\n",
    "y_pred = y_test.copy()\n",
    "y_pred.labels = y_test_pred\n",
    "\n",
    "eod = ClassificationMetric(y_test, y_pred, unprivileged_groups=unprivileged_groups, privileged_groups=privileged_groups).equal_opportunity_difference()\n",
    "print(\"Equal Opportunity Differences:\",eod)\n",
    "\n",
    "\n",
    "print(\"EOD based model:\")\n",
    "y_test_pred = best_model_eod.predict(X_test)\n",
    "\n",
    "accuracy = accuracy_score(y_test.labels.ravel(), y_test_pred)\n",
    "print(\"Accuracy:\", accuracy)\n",
    "\n",
    "y_pred = y_test.copy()\n",
    "y_pred.labels = y_test_pred\n",
    "\n",
    "eod = ClassificationMetric(y_test, y_pred, unprivileged_groups=unprivileged_groups, privileged_groups=privileged_groups).equal_opportunity_difference()\n",
    "print(\"Equal Opportunity Differences:\",eod)"
   ]
  },
  {
   "cell_type": "markdown",
   "metadata": {
    "id": "VldTURlP1fRz"
   },
   "source": [
    "**Task2** Use Reweighting in LR"
   ]
  },
  {
   "cell_type": "code",
   "execution_count": 12,
   "metadata": {
    "id": "hmQPZs3N1kbi"
   },
   "outputs": [],
   "source": [
    "from aif360.algorithms.preprocessing.reweighing import Reweighing\n",
    "\n",
    "RW = Reweighing(unprivileged_groups=unprivileged_groups,\n",
    "                privileged_groups=privileged_groups)\n"
   ]
  },
  {
   "cell_type": "code",
   "execution_count": 172,
   "metadata": {
    "id": "pArWC2Cq3Ba4"
   },
   "outputs": [],
   "source": [
    "import matplotlib.pyplot as plt\n",
    "import numpy as np\n",
    "from sklearn.linear_model import LogisticRegression\n",
    "from sklearn.model_selection import GridSearchCV, train_test_split\n",
    "from sklearn.metrics import accuracy_score\n",
    "from sklearn.preprocessing import StandardScaler\n",
    "from aif360.sklearn.metrics import equal_opportunity_difference\n",
    "from aif360.metrics import ClassificationMetric\n",
    "\n",
    "# Specify the hyperparameter grid for regularization (C)\n",
    "param_values = [0.001, 0.01, 0.05, 0.1,0.5, 1, 10]\n",
    "\n",
    "accuracy_scores = []\n",
    "equal_opportunity_diffs = []\n",
    "lr_models = []\n",
    "\n",
    "\n",
    "for i in range(5):\n",
    "    for param_value in param_values:\n",
    "\n",
    "        train = RW.fit_transform(train_train_splits[i])\n",
    "        lr_model = LogisticRegression(solver='liblinear', random_state=42)\n",
    "\n",
    "        scale_orig = StandardScaler()\n",
    "        X_train_fold = scale_orig.fit_transform(train_train_splits[i].features)\n",
    "        y_train_fold = train_train_splits[i].labels.ravel()\n",
    "\n",
    "        X_val_fold = scale_orig.fit_transform(train_val_splits[i].features)\n",
    "        y_val_fold = train_val_splits[i]\n",
    "\n",
    "        # Fit the model on the training fold\n",
    "        lr_model.fit(X_train_fold, y_train_fold, sample_weight=train.instance_weights)\n",
    "        lr_models.append(lr_model)\n",
    "\n",
    "        # Extract results\n",
    "        y_val_prob = lr_model.predict(X_val_fold)\n",
    "\n",
    "        accuracy = accuracy_score(train_val_splits[i].labels.ravel(), y_val_prob)\n",
    "        accuracy_scores.append(accuracy)\n",
    "\n",
    "        y_val_pred = y_val_fold.copy()\n",
    "        y_val_pred.labels = y_val_prob\n",
    "\n",
    "        eod = ClassificationMetric(y_val_fold, y_val_pred, unprivileged_groups=unprivileged_groups, privileged_groups=privileged_groups).equal_opportunity_difference()\n",
    "        equal_opportunity_diffs.append(eod)\n",
    "\n"
   ]
  },
  {
   "cell_type": "code",
   "execution_count": 173,
   "metadata": {
    "id": "PUNn6nT_3dRc"
   },
   "outputs": [],
   "source": [
    "max_accuracy_index = np.argmax(accuracy_scores)\n",
    "min_eod_index = np.argmin(np.abs(equal_opportunity_diffs))\n",
    "\n",
    "best_model_accuracy = lr_models[max_accuracy_index]\n",
    "best_model_eod = lr_models[min_eod_index]"
   ]
  },
  {
   "cell_type": "code",
   "execution_count": 176,
   "metadata": {
    "colab": {
     "base_uri": "https://localhost:8080/",
     "height": 536
    },
    "id": "Ucl2yIkt3tUJ",
    "outputId": "a91397e1-03a5-490b-c68d-5133095e90a7"
   },
   "outputs": [
    {
     "data": {
      "image/png": "[encoded data removed]",
      "text/plain": [
       "<Figure size 1200x600 with 2 Axes>"
      ]
     },
     "metadata": {},
     "output_type": "display_data"
    }
   ],
   "source": [
    "\n",
    "step_size = 5\n",
    "accuracy_scores_grouped = np.array([accuracy_scores[i:i+step_size] for i in range(0, len(accuracy_scores), step_size)])\n",
    "equal_opportunity_diffs_grouped = np.array([equal_opportunity_diffs[i:i+step_size] for i in range(0, len(equal_opportunity_diffs), step_size)])\n",
    "\n",
    "param_ticks = np.arange(0, len(param_values) * step_size, step_size)\n",
    "\n",
    "plt.figure(figsize=(12, 6))\n",
    "plt.subplot(1, 2, 1)\n",
    "for i, param_tick in enumerate(param_ticks):\n",
    "    plt.bar(param_tick, np.mean(accuracy_scores_grouped[i]), label=f'C={param_values[i]}', width=0.8, align='center')\n",
    "plt.title('Mean Accuracy Scores')\n",
    "plt.xlabel('Regularization Parameter (C)')\n",
    "plt.ylabel('Mean Accuracy')\n",
    "plt.xticks(param_ticks, param_values)\n",
    "plt.ylim(0.7, 0.75)\n",
    "plt.legend()\n",
    "\n",
    "plt.subplot(1, 2, 2)\n",
    "for i, param_tick in enumerate(param_ticks):\n",
    "    plt.bar(param_tick, np.mean(equal_opportunity_diffs_grouped[i]), label=f'C={param_values[i]}', width=0.8, align='center')\n",
    "plt.title('Mean Equal Opportunity Differences')\n",
    "plt.xlabel('Regularization Parameter (C)')\n",
    "plt.ylabel('Mean Equal Opportunity Difference')\n",
    "plt.xticks(param_ticks, param_values)\n",
    "plt.ylim(-0.05, 0.05)\n",
    "plt.legend()\n",
    "\n",
    "plt.tight_layout()\n",
    "plt.savefig('./task2')\n"
   ]
  },
  {
   "cell_type": "code",
   "execution_count": 177,
   "metadata": {
    "colab": {
     "base_uri": "https://localhost:8080/"
    },
    "id": "PjeLb2Fr4M1Z",
    "outputId": "3440a656-9db8-4ced-87c1-8f05b824a5e5"
   },
   "outputs": [
    {
     "name": "stdout",
     "output_type": "stream",
     "text": [
      "Accuracy based model:\n",
      "Accuracy: 0.6873938125725914\n",
      "Equal Opportunity Differences: 0.0021091384522455847\n",
      "EOD based model:\n",
      "Accuracy: 0.6866786972422465\n",
      "Equal Opportunity Differences: 0.0019632590828382313\n"
     ]
    }
   ],
   "source": [
    "scale_orig = StandardScaler()\n",
    "X_test = scale_orig.fit_transform(dataset_test.features)\n",
    "y_test = dataset_test\n",
    "\n",
    "print(\"Accuracy based model:\")\n",
    "y_test_pred = best_model_accuracy.predict(X_test)\n",
    "\n",
    "accuracy = accuracy_score(y_test.labels.ravel(), y_test_pred)\n",
    "print(\"Accuracy:\", accuracy)\n",
    "\n",
    "y_pred = y_test.copy()\n",
    "y_pred.labels = y_test_pred\n",
    "\n",
    "eod = ClassificationMetric(y_test, y_pred, unprivileged_groups=unprivileged_groups, privileged_groups=privileged_groups).equal_opportunity_difference()\n",
    "print(\"Equal Opportunity Differences:\",eod)\n",
    "\n",
    "\n",
    "print(\"EOD based model:\")\n",
    "y_test_pred = best_model_eod.predict(X_test)\n",
    "\n",
    "accuracy = accuracy_score(y_test.labels.ravel(), y_test_pred)\n",
    "print(\"Accuracy:\", accuracy)\n",
    "\n",
    "y_pred = y_test.copy()\n",
    "y_pred.labels = y_test_pred\n",
    "\n",
    "eod = ClassificationMetric(y_test, y_pred, unprivileged_groups=unprivileged_groups, privileged_groups=privileged_groups).equal_opportunity_difference()\n",
    "print(\"Equal Opportunity Differences:\",eod)"
   ]
  },
  {
   "cell_type": "markdown",
   "metadata": {
    "id": "oXGt7Zlo8XEj"
   },
   "source": [
    "**Task3** Use paper method: A Confidence-Based Approach for Balancing Fairness and Accuracy\n"
   ]
  },
  {
   "cell_type": "code",
   "execution_count": 179,
   "metadata": {
    "id": "A9oSsPNC8aN7"
   },
   "outputs": [],
   "source": [
    "# We select param_value = 0.1, and make confidence_threshold as the hyperparameter\n",
    "param_value = 0.1\n",
    "accuracy_scores = []\n",
    "equal_opportunity_diffs = []\n",
    "lr_models = []\n",
    "\n",
    "confidence_thresholds = [0.1,0.2,0.3,0.4,0.5,0.6,0.7,0.8,0.9]\n",
    "\n",
    "for i in range(5):\n",
    "    for confidence_threshold in confidence_thresholds:\n",
    "\n",
    "        train = RW.fit_transform(train_train_splits[i])\n",
    "        lr_model = LogisticRegression(solver='liblinear', random_state=42)\n",
    "\n",
    "        scale_orig = StandardScaler()\n",
    "        X_train_fold = scale_orig.fit_transform(train_train_splits[i].features)\n",
    "        y_train_fold = train_train_splits[i].labels.ravel()\n",
    "\n",
    "        X_val_fold = scale_orig.fit_transform(train_val_splits[i].features)\n",
    "        y_val_fold = train_val_splits[i]\n",
    "\n",
    "        # Fit the model on the training fold\n",
    "        lr_model.fit(X_train_fold, y_train_fold, sample_weight=train.instance_weights)\n",
    "        lr_models.append(lr_model)\n",
    "\n",
    "        # Extract results\n",
    "        y_val_prob = lr_model.predict_proba(X_val_fold)[:, 1]  # Probability of positive class\n",
    "\n",
    "        # Adjust decision threshold based on confidence scores\n",
    "        y_val_pred_1 = (y_val_prob >= confidence_threshold).astype(int)\n",
    "\n",
    "        # Evaluate accuracy\n",
    "        accuracy = accuracy_score(train_val_splits[i].labels.ravel(), y_val_pred_1)\n",
    "        accuracy_scores.append(accuracy)\n",
    "\n",
    "        y_val_pred = y_val_fold.copy()\n",
    "        y_val_pred.labels = y_val_pred_1\n",
    "\n",
    "        eod = ClassificationMetric(y_val_fold, y_val_pred, unprivileged_groups=unprivileged_groups, privileged_groups=privileged_groups).equal_opportunity_difference()\n",
    "        equal_opportunity_diffs.append(eod)\n",
    "\n"
   ]
  },
  {
   "cell_type": "code",
   "execution_count": 180,
   "metadata": {
    "id": "p3uOALEpKUze"
   },
   "outputs": [],
   "source": [
    "max_accuracy_index = np.argmax(accuracy_scores)\n",
    "min_eod_index = np.argmin(np.abs(equal_opportunity_diffs))\n",
    "\n",
    "best_model_accuracy = lr_models[max_accuracy_index]\n",
    "best_model_eod = lr_models[min_eod_index]"
   ]
  },
  {
   "cell_type": "code",
   "execution_count": 185,
   "metadata": {
    "colab": {
     "base_uri": "https://localhost:8080/",
     "height": 530
    },
    "id": "tw00frkxKVxm",
    "outputId": "74645e27-fe99-49fc-fd27-d233984dbaab"
   },
   "outputs": [
    {
     "data": {
      "image/png": "[encoded data removed]",
      "text/plain": [
       "<Figure size 1200x600 with 2 Axes>"
      ]
     },
     "metadata": {},
     "output_type": "display_data"
    }
   ],
   "source": [
    "# Group accuracy and EOD scores for plotting\n",
    "accuracy_scores_grouped = np.array([accuracy_scores[i:i+len(confidence_thresholds)] for i in range(0, len(accuracy_scores), len(confidence_thresholds))])\n",
    "equal_opportunity_diffs_grouped = np.array([equal_opportunity_diffs[i:i+len(confidence_thresholds)] for i in range(0, len(equal_opportunity_diffs), len(confidence_thresholds))])\n",
    "\n",
    "# Calculate mean values\n",
    "mean_accuracy_scores = np.mean(accuracy_scores_grouped, axis=0)\n",
    "mean_equal_opportunity_diffs = np.mean(equal_opportunity_diffs_grouped, axis=0)\n",
    "\n",
    "# Plotting\n",
    "param_ticks = np.arange(len(confidence_thresholds))\n",
    "\n",
    "plt.figure(figsize=(12, 6))\n",
    "plt.subplot(1, 2, 1)\n",
    "plt.bar(param_ticks, mean_accuracy_scores, width=0.8, align='center', alpha=0.7, label='Mean Accuracy')\n",
    "plt.title('Mean Accuracy Scores over Confidence Thresholds')\n",
    "plt.xlabel('Confidence Threshold Index')\n",
    "plt.ylabel('Mean Accuracy')\n",
    "plt.xticks(param_ticks, confidence_thresholds)\n",
    "plt.ylim(0.5, 0.8)\n",
    "plt.legend()\n",
    "\n",
    "plt.subplot(1, 2, 2)\n",
    "plt.bar(param_ticks, mean_equal_opportunity_diffs, width=0.8, align='center',alpha=0.7, label='Mean EOD')\n",
    "plt.title('Mean Equal Opportunity Differences over Confidence Thresholds')\n",
    "plt.xlabel('Confidence Threshold Index')\n",
    "plt.ylabel('Mean Equal Opportunity Difference')\n",
    "plt.xticks(param_ticks, confidence_thresholds)\n",
    "plt.ylim(-0.04, 0.01)\n",
    "plt.legend()\n",
    "\n",
    "plt.tight_layout()\n",
    "plt.savefig('./task3.png')\n",
    "plt.show()\n"
   ]
  },
  {
   "cell_type": "code",
   "execution_count": 186,
   "metadata": {
    "colab": {
     "base_uri": "https://localhost:8080/"
    },
    "id": "sHJbk1oAOy6t",
    "outputId": "f6e73211-9637-47c5-ebcb-9a2192b2fcb0"
   },
   "outputs": [
    {
     "name": "stdout",
     "output_type": "stream",
     "text": [
      "Accuracy based model:\n",
      "Accuracy: 0.6873938125725914\n",
      "Equal Opportunity Differences: 0.0021091384522455847\n",
      "EOD based model:\n",
      "Accuracy: 0.6873938125725914\n",
      "Equal Opportunity Differences: 0.0021091384522455847\n"
     ]
    }
   ],
   "source": [
    "scale_orig = StandardScaler()\n",
    "X_test = scale_orig.fit_transform(dataset_test.features)\n",
    "y_test = dataset_test\n",
    "\n",
    "print(\"Accuracy based model:\")\n",
    "y_test_pred = best_model_accuracy.predict(X_test)\n",
    "\n",
    "accuracy = accuracy_score(y_test.labels.ravel(), y_test_pred)\n",
    "print(\"Accuracy:\", accuracy)\n",
    "\n",
    "y_pred = y_test.copy()\n",
    "y_pred.labels = y_test_pred\n",
    "\n",
    "eod = ClassificationMetric(y_test, y_pred, unprivileged_groups=unprivileged_groups, privileged_groups=privileged_groups).equal_opportunity_difference()\n",
    "print(\"Equal Opportunity Differences:\",eod)\n",
    "\n",
    "\n",
    "print(\"EOD based model:\")\n",
    "y_test_pred = best_model_eod.predict(X_test)\n",
    "\n",
    "accuracy = accuracy_score(y_test.labels.ravel(), y_test_pred)\n",
    "print(\"Accuracy:\", accuracy)\n",
    "\n",
    "y_pred = y_test.copy()\n",
    "y_pred.labels = y_test_pred\n",
    "\n",
    "eod = ClassificationMetric(y_test, y_pred, unprivileged_groups=unprivileged_groups, privileged_groups=privileged_groups).equal_opportunity_difference()\n",
    "print(\"Equal Opportunity Differences:\",eod)"
   ]
  },
  {
   "cell_type": "markdown",
   "metadata": {
    "id": "mxEk--QHUu9D"
   },
   "source": [
    "**More research 1**: On remove of DIS in the data set"
   ]
  },
  {
   "cell_type": "code",
   "execution_count": 140,
   "metadata": {
    "colab": {
     "base_uri": "https://localhost:8080/"
    },
    "id": "Cs6RrxrM3YAo",
    "outputId": "1ed1aca2-c940-4b0d-8140-452278588d50"
   },
   "outputs": [
    {
     "data": {
      "text/plain": [
       "(array([[64., 16.,  1., ...,  1.,  8.,  2.],\n",
       "        [20., 16.,  5., ...,  1.,  9.,  0.],\n",
       "        [18., 16.,  5., ...,  1.,  2.,  0.],\n",
       "        ...,\n",
       "        [57., 21.,  1., ...,  1.,  1.,  2.],\n",
       "        [38., 16.,  1., ...,  2.,  9.,  2.],\n",
       "        [50., 16.,  1., ...,  1.,  2.,  2.]]),\n",
       " array([False, False, False, ..., False, False, False]),\n",
       " array([2, 2, 2, ..., 2, 1, 1]))"
      ]
     },
     "execution_count": 140,
     "metadata": {},
     "output_type": "execute_result"
    }
   ],
   "source": [
    "features, label, group"
   ]
  },
  {
   "cell_type": "code",
   "execution_count": 142,
   "metadata": {
    "id": "TK0vaybwU0Pn"
   },
   "outputs": [],
   "source": [
    "#split data again\n",
    "train_data, test_data = train_test_split(data, test_size=0.3, random_state=42)\n",
    "\n",
    "test = StandardDataset(data, 'label', favorable_classes = favorable_classes, protected_attribute_names = protected_attribute_names, privileged_classes = privileged_classes)\n",
    "\n",
    "train_train_splits = []\n",
    "train_val_splits = []\n",
    "\n",
    "\n",
    "for i in range(5):\n",
    "    # Split into train and validation sets (70% train, 30% validation)\n",
    "    train_train_data, train_val_data= train_test_split(\n",
    "        train_data, test_size=0.3, random_state=i\n",
    "    )\n",
    "    #drop protected features\n",
    "    train_train_data = StandardDataset(data, 'label', favorable_classes = favorable_classes,protected_attribute_names=[],features_to_drop = 'DIS' , privileged_classes = privileged_classes)\n",
    "    train_val_data = StandardDataset(data, 'label', favorable_classes = favorable_classes, protected_attribute_names = protected_attribute_names, privileged_classes = privileged_classes)\n",
    "    # Append the splits to the lists\n",
    "    train_train_splits.append(train_train_data)\n",
    "    train_val_splits.append(train_val_data)\n"
   ]
  },
  {
   "cell_type": "code",
   "execution_count": 145,
   "metadata": {
    "id": "XIqp0nSWSloG"
   },
   "outputs": [],
   "source": [
    "dataset_test = test"
   ]
  },
  {
   "cell_type": "code",
   "execution_count": 144,
   "metadata": {
    "colab": {
     "base_uri": "https://localhost:8080/"
    },
    "id": "lTBaB5umSdQZ",
    "outputId": "b8045381-8857-4edf-a464-27a041e3ce7e"
   },
   "outputs": [
    {
     "data": {
      "text/plain": [
       "               instance weights features                                       \\\n",
       "                                                                                \n",
       "                                    AGEP  SCHL  MAR  RELP  DIS  ESP  CIT  MIG   \n",
       "instance names                                                                  \n",
       "0                           1.0     64.0  16.0  1.0  16.0  2.0  0.0  5.0  3.0   \n",
       "1                           1.0     20.0  16.0  5.0  17.0  2.0  0.0  1.0  3.0   \n",
       "2                           1.0     18.0  16.0  5.0  17.0  2.0  0.0  1.0  3.0   \n",
       "3                           1.0     72.0   1.0  5.0  17.0  1.0  0.0  1.0  1.0   \n",
       "4                           1.0     37.0  17.0  5.0  16.0  2.0  0.0  1.0  1.0   \n",
       "...                         ...      ...   ...  ...   ...  ...  ...  ...  ...   \n",
       "167301                      1.0     72.0  19.0  2.0   0.0  2.0  0.0  1.0  1.0   \n",
       "167302                      1.0     58.0  19.0  1.0   0.0  1.0  0.0  1.0  3.0   \n",
       "167303                      1.0     57.0  21.0  1.0   1.0  2.0  0.0  1.0  3.0   \n",
       "167304                      1.0     38.0  16.0  1.0   0.0  1.0  0.0  1.0  1.0   \n",
       "167305                      1.0     50.0  16.0  1.0   1.0  1.0  0.0  1.0  1.0   \n",
       "\n",
       "                                                                 labels  \n",
       "                                                                         \n",
       "                MIL  ANC NATIVITY DEAR DEYE DREM  SEX RAC1P  GCL         \n",
       "instance names                                                           \n",
       "0               4.0  1.0      2.0  2.0  2.0  2.0  1.0   8.0  2.0    0.0  \n",
       "1               2.0  2.0      1.0  2.0  2.0  2.0  1.0   9.0  0.0    0.0  \n",
       "2               4.0  1.0      1.0  2.0  2.0  2.0  1.0   2.0  0.0    0.0  \n",
       "3               4.0  1.0      1.0  2.0  2.0  1.0  1.0   1.0  2.0    0.0  \n",
       "4               4.0  4.0      1.0  2.0  2.0  2.0  1.0   2.0  2.0    0.0  \n",
       "...             ...  ...      ...  ...  ...  ...  ...   ...  ...    ...  \n",
       "167301          2.0  2.0      1.0  2.0  2.0  2.0  2.0   1.0  2.0    1.0  \n",
       "167302          2.0  2.0      1.0  1.0  2.0  2.0  1.0   1.0  2.0    0.0  \n",
       "167303          4.0  1.0      1.0  2.0  2.0  2.0  1.0   1.0  2.0    0.0  \n",
       "167304          4.0  1.0      1.0  2.0  1.0  1.0  2.0   9.0  2.0    0.0  \n",
       "167305          4.0  1.0      1.0  1.0  1.0  1.0  1.0   2.0  2.0    0.0  \n",
       "\n",
       "[167306 rows x 19 columns]"
      ]
     },
     "execution_count": 144,
     "metadata": {},
     "output_type": "execute_result"
    }
   ],
   "source": [
    "train_train_splits[0]"
   ]
  },
  {
   "cell_type": "markdown",
   "metadata": {
    "id": "5uCp-7LxUfoQ"
   },
   "source": [
    "The rest codes are the same above. Just rerun it again."
   ]
  },
  {
   "cell_type": "markdown",
   "metadata": {
    "id": "YdoMvCaiUUvw"
   },
   "source": [
    "**More 2: Train on FL but test on TX**"
   ]
  },
  {
   "cell_type": "code",
   "execution_count": 162,
   "metadata": {
    "colab": {
     "base_uri": "https://localhost:8080/"
    },
    "id": "FpnerOBYUk3j",
    "outputId": "05d8e2ca-c255-42eb-afdd-9f98b3ffd240"
   },
   "outputs": [
    {
     "name": "stdout",
     "output_type": "stream",
     "text": [
      "Downloading data for 2018 1-Year person survey for TX...\n"
     ]
    }
   ],
   "source": [
    "import folktables\n",
    "from folktables import ACSDataSource\n",
    "import numpy as np\n",
    "#(Age) must be greater than 16 and less than 90, and (Person weight) must be greater than or equal to 1\n",
    "def employment_filter(data):\n",
    "\n",
    "#Filters for the employment prediction task\n",
    "\n",
    "    df = data\n",
    "    df = df[df['AGEP'] > 16]\n",
    "    df = df[df['AGEP'] < 90]\n",
    "    df = df[df['PWGTP'] >= 1]\n",
    "    return df\n",
    "\n",
    "ACSEmployment = folktables.BasicProblem(\n",
    "    features=[\n",
    "    'AGEP', #age; for range of values of features please check Appendix B.4 of Retiring Adult: New Datasets for Fair Machine Learning NeurIPS 2021 paper\n",
    "    'SCHL', #educational attainment\n",
    "    'MAR', #marital status\n",
    "    'RELP', #relationship\n",
    "    'DIS', #disability recode\n",
    "    'ESP', #employment status of parents\n",
    "    'CIT', #citizenship status\n",
    "    'MIG', #mobility status (lived here 1 year ago)\n",
    "    'MIL', #military service\n",
    "    'ANC', #ancestry recode\n",
    "    'NATIVITY', #nativity\n",
    "    'DEAR', #hearing difficulty\n",
    "    'DEYE', #vision difficulty\n",
    "    'DREM', #cognitive difficulty\n",
    "    'SEX', #sex\n",
    "    'RAC1P', #recoded detailed race code\n",
    "    'GCL', #grandparents living with grandchildren\n",
    "    ],\n",
    "    target='ESR', #employment status recode\n",
    "    target_transform=lambda x: x == 1,\n",
    "    group='DIS',\n",
    "    preprocess=employment_filter,\n",
    "    postprocess=lambda x: np.nan_to_num(x, -1),\n",
    ")\n",
    "data_source = ACSDataSource(survey_year='2018', horizon='1-Year', survey='person')\n",
    "acs_data = data_source.get_data(states=[\"TX\"], download=True) #data for Florida state\n",
    "features, label, group = ACSEmployment.df_to_numpy(acs_data)\n",
    "\n",
    "from aif360.datasets import StandardDataset\n",
    "import pandas as pd\n",
    "data = pd.DataFrame(features, columns = ACSEmployment.features)\n",
    "data['label'] = label\n",
    "favorable_classes = [True]\n",
    "protected_attribute_names = [ACSEmployment.group]\n",
    "privileged_classes = np.array([[1]])\n",
    "data_for_aif = StandardDataset(data, 'label', favorable_classes = favorable_classes, protected_attribute_names = protected_attribute_names, privileged_classes = privileged_classes)\n",
    "privileged_groups = [{'DIS': 1}]\n",
    "unprivileged_groups = [{'DIS': 2}]\n",
    "\n",
    "dataset_test = data_for_aif"
   ]
  },
  {
   "cell_type": "code",
   "execution_count": 163,
   "metadata": {
    "colab": {
     "base_uri": "https://localhost:8080/"
    },
    "id": "oFA27ZNoWKuv",
    "outputId": "cde18e19-6296-472a-ae24-34faed3957a8"
   },
   "outputs": [
    {
     "data": {
      "text/plain": [
       "               instance weights features                                       \\\n",
       "                                                          protected attribute   \n",
       "                                    AGEP  SCHL  MAR  RELP                 DIS   \n",
       "instance names                                                                  \n",
       "0                           1.0     21.0  16.0  5.0  17.0                 2.0   \n",
       "1                           1.0     19.0  16.0  5.0  17.0                 2.0   \n",
       "2                           1.0     24.0  12.0  5.0  16.0                 1.0   \n",
       "3                           1.0     20.0  16.0  5.0  17.0                 2.0   \n",
       "4                           1.0     31.0  17.0  5.0  17.0                 2.0   \n",
       "...                         ...      ...   ...  ...   ...                 ...   \n",
       "208353                      1.0     19.0  19.0  5.0   2.0                 2.0   \n",
       "208354                      1.0     24.0  19.0  5.0  10.0                 2.0   \n",
       "208355                      1.0     40.0  15.0  5.0  12.0                 2.0   \n",
       "208356                      1.0     43.0   1.0  2.0   0.0                 2.0   \n",
       "208357                      1.0     61.0   1.0  3.0   8.0                 2.0   \n",
       "\n",
       "                                                                            \\\n",
       "                                                                             \n",
       "                ESP  CIT  MIG  MIL  ANC NATIVITY DEAR DEYE DREM  SEX RAC1P   \n",
       "instance names                                                               \n",
       "0               0.0  1.0  1.0  4.0  1.0      1.0  2.0  2.0  2.0  2.0   2.0   \n",
       "1               0.0  1.0  1.0  4.0  1.0      1.0  2.0  2.0  2.0  2.0   1.0   \n",
       "2               0.0  1.0  1.0  4.0  1.0      1.0  2.0  2.0  1.0  1.0   2.0   \n",
       "3               0.0  1.0  1.0  3.0  1.0      1.0  2.0  2.0  2.0  2.0   1.0   \n",
       "4               0.0  1.0  3.0  4.0  4.0      1.0  2.0  2.0  2.0  1.0   1.0   \n",
       "...             ...  ...  ...  ...  ...      ...  ...  ...  ...  ...   ...   \n",
       "208353          0.0  1.0  1.0  4.0  2.0      1.0  2.0  2.0  2.0  1.0   1.0   \n",
       "208354          0.0  1.0  1.0  4.0  2.0      1.0  2.0  2.0  2.0  1.0   1.0   \n",
       "208355          0.0  1.0  1.0  4.0  1.0      1.0  2.0  2.0  2.0  1.0   1.0   \n",
       "208356          0.0  1.0  1.0  4.0  1.0      1.0  2.0  2.0  2.0  1.0   1.0   \n",
       "208357          0.0  4.0  1.0  4.0  1.0      2.0  2.0  2.0  2.0  1.0   1.0   \n",
       "\n",
       "                    labels  \n",
       "                            \n",
       "                GCL         \n",
       "instance names              \n",
       "0               0.0    1.0  \n",
       "1               0.0    0.0  \n",
       "2               0.0    0.0  \n",
       "3               0.0    1.0  \n",
       "4               2.0    1.0  \n",
       "...             ...    ...  \n",
       "208353          0.0    1.0  \n",
       "208354          0.0    1.0  \n",
       "208355          2.0    1.0  \n",
       "208356          2.0    1.0  \n",
       "208357          2.0    1.0  \n",
       "\n",
       "[208358 rows x 19 columns]"
      ]
     },
     "execution_count": 163,
     "metadata": {},
     "output_type": "execute_result"
    }
   ],
   "source": [
    "dataset_test"
   ]
  },
  {
   "cell_type": "markdown",
   "metadata": {
    "id": "fZsmbvIsWUr7"
   },
   "source": [
    "The rest codes for 1-6 are the same. Refer to the above things."
   ]
  }
 ],
 "metadata": {
  "colab": {
   "provenance": []
  },
  "kernelspec": {
   "display_name": "Python 3 (ipykernel)",
   "language": "python",
   "name": "python3"
  },
  "language_info": {
   "codemirror_mode": {
    "name": "ipython",
    "version": 3
   },
   "file_extension": ".py",
   "mimetype": "text/x-python",
   "name": "python",
   "nbconvert_exporter": "python",
   "pygments_lexer": "ipython3",
   "version": "3.10.13"
  }
 },
 "nbformat": 4,
 "nbformat_minor": 4
}
